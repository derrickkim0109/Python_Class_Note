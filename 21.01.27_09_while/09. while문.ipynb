{
 "cells": [
  {
   "cell_type": "code",
   "execution_count": 3,
   "metadata": {},
   "outputs": [
    {
     "name": "stdout",
     "output_type": "stream",
     "text": [
      "나무를 1번 찍었습니다.\n",
      "나무를 2번 찍었습니다.\n",
      "나무를 3번 찍었습니다.\n",
      "나무를 4번 찍었습니다.\n",
      "나무를 5번 찍었습니다.\n",
      "나무를 6번 찍었습니다.\n",
      "나무를 7번 찍었습니다.\n",
      "나무 넘어 가유~~~\n",
      "나무를 8번 찍었습니다.\n",
      "나무를 9번 찍었습니다.\n",
      "나무를 10번 찍었습니다.\n",
      "나무 넘어 갑니다.\n"
     ]
    }
   ],
   "source": [
    "treeHit = 0\n",
    "\n",
    "while treeHit < 10:\n",
    "    treeHit += 1\n",
    "    print(\"나무를 %d번 찍었습니다.\"%treeHit)\n",
    "    if treeHit == 7:\n",
    "        print(\"나무 넘어 가유~~~\")\n",
    "    if treeHit == 10:\n",
    "        print(\"나무 넘어 갑니다.\")"
   ]
  },
  {
   "cell_type": "code",
   "execution_count": 4,
   "metadata": {},
   "outputs": [],
   "source": [
    "# Menu 만들기 \n",
    "prompt = \"\"\"\n",
    "1. 덧셈\n",
    "2. 뺄셈\n",
    "3. 곱셈\n",
    "4. 나눗셈\n",
    "5. 종료\n",
    "\n",
    "숫자를 입력하세요:\n",
    "\"\"\""
   ]
  },
  {
   "cell_type": "code",
   "execution_count": 5,
   "metadata": {},
   "outputs": [
    {
     "name": "stdout",
     "output_type": "stream",
     "text": [
      "\n",
      "1. 덧셈\n",
      "2. 뺄셈\n",
      "3. 곱셈\n",
      "4. 나눗셈\n",
      "5. 종료\n",
      "\n",
      "숫자를 입력하세요:\n",
      "\n",
      "3\n",
      "\n",
      "1. 덧셈\n",
      "2. 뺄셈\n",
      "3. 곱셈\n",
      "4. 나눗셈\n",
      "5. 종료\n",
      "\n",
      "숫자를 입력하세요:\n",
      "\n",
      "2\n",
      "\n",
      "1. 덧셈\n",
      "2. 뺄셈\n",
      "3. 곱셈\n",
      "4. 나눗셈\n",
      "5. 종료\n",
      "\n",
      "숫자를 입력하세요:\n",
      "\n",
      "2\n",
      "\n",
      "1. 덧셈\n",
      "2. 뺄셈\n",
      "3. 곱셈\n",
      "4. 나눗셈\n",
      "5. 종료\n",
      "\n",
      "숫자를 입력하세요:\n",
      "\n",
      "3\n",
      "\n",
      "1. 덧셈\n",
      "2. 뺄셈\n",
      "3. 곱셈\n",
      "4. 나눗셈\n",
      "5. 종료\n",
      "\n",
      "숫자를 입력하세요:\n",
      "\n",
      "4\n",
      "\n",
      "1. 덧셈\n",
      "2. 뺄셈\n",
      "3. 곱셈\n",
      "4. 나눗셈\n",
      "5. 종료\n",
      "\n",
      "숫자를 입력하세요:\n",
      "\n",
      "5\n"
     ]
    }
   ],
   "source": [
    "number = 0\n",
    "while number != 5:\n",
    "    print(prompt)\n",
    "    number = int(input())"
   ]
  },
  {
   "cell_type": "code",
   "execution_count": 6,
   "metadata": {},
   "outputs": [
    {
     "name": "stdout",
     "output_type": "stream",
     "text": [
      "0\n",
      "1\n",
      "2\n",
      "3\n",
      "4\n"
     ]
    }
   ],
   "source": [
    "# break문을 사용하여 var이 5인 경우 빠지기\n",
    "var = 0\n",
    "while var < 10:\n",
    "    print(var)\n",
    "    var += 1 \n",
    "    if var == 5:\n",
    "        break\n",
    "    "
   ]
  },
  {
   "cell_type": "code",
   "execution_count": 7,
   "metadata": {},
   "outputs": [
    {
     "name": "stdout",
     "output_type": "stream",
     "text": [
      "1\n",
      "2\n",
      "3\n",
      "4\n",
      "6\n",
      "7\n",
      "8\n",
      "9\n",
      "10\n"
     ]
    }
   ],
   "source": [
    "# 10보다 작은 수중 5인 경우에만 출력을 안하고 나머지 숫자는 출력하기\n",
    "var = 0\n",
    "# continue는 5인경우는 밑의 print를 실행안하고 다시 위로 가서 while문을 실행하는 것이다. \n",
    "while var < 10:\n",
    "    var += 1\n",
    "    if var == 5:\n",
    "        continue\n",
    "    print(var)"
   ]
  },
  {
   "cell_type": "code",
   "execution_count": 8,
   "metadata": {},
   "outputs": [
    {
     "name": "stdout",
     "output_type": "stream",
     "text": [
      "78.0\n"
     ]
    }
   ],
   "source": [
    "# 평균 구하기 - 1\n",
    "scores = [78, 85, 94, 55]\n",
    "# 나누기 N 해야하니까 전체 길이 구해야 한다.\n",
    "list_length = len(scores)\n",
    "total = 0\n",
    "while scores:\n",
    "    # pop는 마지막꺼 띄워주고 지우는 것이다. \n",
    "    total += scores.pop()\n",
    "print(total / list_length)"
   ]
  },
  {
   "cell_type": "code",
   "execution_count": 9,
   "metadata": {},
   "outputs": [
    {
     "data": {
      "text/plain": [
       "78.0"
      ]
     },
     "execution_count": 9,
     "metadata": {},
     "output_type": "execute_result"
    }
   ],
   "source": [
    "# Python에서는 위에 방법처럼 쓰지 않는다!\n",
    "# 1. numpy() - matlab보고 만든것(평균계산, 행렬식...등등) \n",
    "# 2. pandas: data.frame(R언어에서)와 같다. Excel보고 만든거이다\n",
    "# 3. matplotlib -> 막대 그래프 만드는것이다. \n",
    "# 보통 위의 3가지는 import를 default로 하고 진행을 한다. \n",
    "# 평균 구하기 - 2\n",
    "import numpy as np\n",
    "scores = [78, 85, 94, 55]\n",
    "np.mean(scores)"
   ]
  },
  {
   "cell_type": "code",
   "execution_count": 12,
   "metadata": {},
   "outputs": [
    {
     "name": "stdout",
     "output_type": "stream",
     "text": [
      "78.0\n",
      "208.5\n"
     ]
    },
    {
     "data": {
      "text/plain": [
       "14.439529078193651"
      ]
     },
     "execution_count": 12,
     "metadata": {},
     "output_type": "execute_result"
    }
   ],
   "source": [
    "# 표준편차 구하기 - 1\n",
    "# 표준편차 : 평균과 각 data의 차이의 제곱한 것의 합의 제곱근을 구한것의 평균\n",
    "# 네이버 코딩시험에 나왔던 것이다. \n",
    "import math\n",
    "scores = [78, 85, 94, 55]\n",
    "# 제일처음 할일 -> 1 . 평균구하기\n",
    "total = 0\n",
    "var = 0 \n",
    "\n",
    "while var < len(scores) :\n",
    "    total += scores[var]\n",
    "    var += 1 # 합계 구해짐 \n",
    "\n",
    "avg = total / len(scores)\n",
    "print(avg)\n",
    "# 2. 각 데이터와 평균의 차이의 제곱의 합의 평균 구하기\n",
    "total = 0\n",
    "var = 0 \n",
    "\n",
    "while var < len(scores):\n",
    "    total += (scores[var] - avg) ** 2\n",
    "    var += 1\n",
    "\n",
    "avg = total / len(scores)\n",
    "print(avg)\n",
    "# 3. 계산값의 제곱근. \n",
    "math.sqrt(avg)"
   ]
  },
  {
   "cell_type": "code",
   "execution_count": 13,
   "metadata": {},
   "outputs": [
    {
     "data": {
      "text/plain": [
       "14.439529078193651"
      ]
     },
     "execution_count": 13,
     "metadata": {},
     "output_type": "execute_result"
    }
   ],
   "source": [
    "# 위의 값들을 구할수있는 함수\n",
    "np.std(scores)"
   ]
  },
  {
   "cell_type": "code",
   "execution_count": null,
   "metadata": {},
   "outputs": [],
   "source": []
  }
 ],
 "metadata": {
  "kernelspec": {
   "display_name": "Python 3",
   "language": "python",
   "name": "python3"
  },
  "language_info": {
   "codemirror_mode": {
    "name": "ipython",
    "version": 3
   },
   "file_extension": ".py",
   "mimetype": "text/x-python",
   "name": "python",
   "nbconvert_exporter": "python",
   "pygments_lexer": "ipython3",
   "version": "3.8.5"
  }
 },
 "nbformat": 4,
 "nbformat_minor": 4
}
