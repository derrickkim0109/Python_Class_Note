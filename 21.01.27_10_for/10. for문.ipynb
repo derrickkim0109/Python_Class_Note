{
 "cells": [
  {
   "cell_type": "markdown",
   "metadata": {},
   "source": [
    "# for문 말하기 전에 알아야 할것. \n",
    "## range()\n",
    "range(시작 숫자, 끝숫자, 증가값)"
   ]
  },
  {
   "cell_type": "code",
   "execution_count": 3,
   "metadata": {},
   "outputs": [
    {
     "data": {
      "text/plain": [
       "range(1, 11)"
      ]
     },
     "execution_count": 3,
     "metadata": {},
     "output_type": "execute_result"
    }
   ],
   "source": [
    "# range(1,11)이것만 쓰면 못본다. \n",
    "list(range(1,11))"
   ]
  },
  {
   "cell_type": "code",
   "execution_count": 4,
   "metadata": {},
   "outputs": [
    {
     "data": {
      "text/plain": [
       "[0, 2, 4, 6, 8, 10]"
      ]
     },
     "execution_count": 4,
     "metadata": {},
     "output_type": "execute_result"
    }
   ],
   "source": [
    "# 짝수만 본다. R language 에서 나오는 seq 와 같은 것이다.seq(0,11,2)\n",
    "list(range(0,11, 2))"
   ]
  },
  {
   "cell_type": "code",
   "execution_count": 6,
   "metadata": {},
   "outputs": [
    {
     "data": {
      "text/plain": [
       "[10, 8, 6, 4, 2]"
      ]
     },
     "execution_count": 6,
     "metadata": {},
     "output_type": "execute_result"
    }
   ],
   "source": [
    "# 10 부터 0까지 짝수 \n",
    "list(range(10,0, -2))"
   ]
  },
  {
   "cell_type": "code",
   "execution_count": 7,
   "metadata": {},
   "outputs": [
    {
     "data": {
      "text/plain": [
       "[]"
      ]
     },
     "execution_count": 7,
     "metadata": {},
     "output_type": "execute_result"
    }
   ],
   "source": [
    "# 범위안에 없으니까 아무것도 안나옴.\n",
    "list(range(0,10, -2))"
   ]
  },
  {
   "cell_type": "markdown",
   "metadata": {},
   "source": [
    "# For문"
   ]
  },
  {
   "cell_type": "code",
   "execution_count": 8,
   "metadata": {
    "collapsed": true
   },
   "outputs": [
    {
     "name": "stdout",
     "output_type": "stream",
     "text": [
      "1\n",
      "2\n",
      "3\n",
      "4\n",
      "5\n",
      "6\n",
      "7\n",
      "8\n",
      "9\n",
      "10\n"
     ]
    }
   ],
   "source": [
    "# 1 ~ 11 까지 숫자 나온다. \n",
    "for i in range(1,11):\n",
    "    print(i)\n"
   ]
  },
  {
   "cell_type": "code",
   "execution_count": 10,
   "metadata": {
    "collapsed": true
   },
   "outputs": [
    {
     "name": "stdout",
     "output_type": "stream",
     "text": [
      "0\n",
      "1\n",
      "2\n",
      "3\n",
      "4\n"
     ]
    }
   ],
   "source": [
    "# 출발은 '0'이니까 0~4까지 나온다. \n",
    "for i in range(5):\n",
    "    print(i)"
   ]
  },
  {
   "cell_type": "code",
   "execution_count": 22,
   "metadata": {
    "collapsed": true
   },
   "outputs": [
    {
     "name": "stdout",
     "output_type": "stream",
     "text": [
      " 1 : 1.00000000\n",
      " 2 : 1.41421356\n",
      " 3 : 1.73205081\n",
      " 4 : 2.00000000\n",
      " 5 : 2.23606798\n",
      " 6 : 2.44948974\n",
      " 7 : 2.64575131\n",
      " 8 : 2.82842712\n",
      " 9 : 3.00000000\n",
      "10 : 3.16227766\n"
     ]
    }
   ],
   "source": [
    "# 1에서 10까지의 제곱근을 출력해!\n",
    "# 제곱근 함수 쓸려면 import \n",
    "import math\n",
    "\n",
    "for i in range(1,11):\n",
    "    x = math.sqrt(i)\n",
    "    print(\"%2d :\"%i, \"%0.8f\"%x )"
   ]
  },
  {
   "cell_type": "code",
   "execution_count": 24,
   "metadata": {},
   "outputs": [
    {
     "name": "stdout",
     "output_type": "stream",
     "text": [
      "0 1 2 3 4 "
     ]
    }
   ],
   "source": [
    "# 세로로 나오던 값들이 end = \" \"하면 가로로 나온다. \n",
    "for i in range(5):\n",
    "    print(i, end= \" \")"
   ]
  },
  {
   "cell_type": "code",
   "execution_count": 42,
   "metadata": {},
   "outputs": [
    {
     "name": "stdout",
     "output_type": "stream",
     "text": [
      "2 4 6 8 10 12 14 16 18 \n",
      "3 6 9 12 15 18 21 24 27 \n",
      "4 8 12 16 20 24 28 32 36 \n",
      "5 10 15 20 25 30 35 40 45 \n",
      "6 12 18 24 30 36 42 48 54 \n",
      "7 14 21 28 35 42 49 56 63 \n",
      "8 16 24 32 40 48 56 64 72 \n",
      "9 18 27 36 45 54 63 72 81 \n"
     ]
    }
   ],
   "source": [
    "# 구구단 결과만 출력하기 \n",
    "\n",
    "for dan in range(2,10):\n",
    "    for num in range(1,10):\n",
    "        \n",
    "        print(dan*num, end = \" \")\n",
    "    print()\n"
   ]
  },
  {
   "cell_type": "markdown",
   "metadata": {},
   "source": [
    "## for문에서 list 사용하기\n"
   ]
  },
  {
   "cell_type": "code",
   "execution_count": 43,
   "metadata": {},
   "outputs": [],
   "source": [
    "test_list = ['one', 'two', 'three']\n"
   ]
  },
  {
   "cell_type": "markdown",
   "metadata": {},
   "source": [
    "### for문에서 Tuple사용하기\n"
   ]
  },
  {
   "cell_type": "code",
   "execution_count": 51,
   "metadata": {},
   "outputs": [
    {
     "name": "stdout",
     "output_type": "stream",
     "text": [
      "1 : 2\n",
      "3 : 4\n",
      "5 : 6\n",
      "--------\n",
      "3\n",
      "7\n",
      "11\n",
      "--------\n",
      "21\n",
      "--------\n"
     ]
    }
   ],
   "source": [
    "# 리스트에서 Tuple을 함께 사용한 경우\n",
    "var = [(1,2),(3,4),(5,6)]\n",
    "\n",
    "# , 콤마 기준으로 제일 앞에 있는게 들어온다.\n",
    "for first, last in var :\n",
    "    print(first, \":\", last)\n",
    "print(\"--------\")\n",
    "# 합하기 \n",
    "for first, last in var :\n",
    "    print(first + last)\n",
    "print(\"--------\")\n",
    "# 합계 구하기 \n",
    "sum = 0\n",
    "for first, last in var :\n",
    "    sum = sum + first + last\n",
    "\n",
    "print(sum)\n",
    "print(\"--------\")"
   ]
  },
  {
   "cell_type": "markdown",
   "metadata": {},
   "source": [
    " 총 5명의 학생이 시험을 보았는데 시험점수가 60점을 넘으면 합격이고, 아니면 불합격이다\n",
    " 합격, 불합격 보여주기\n"
   ]
  },
  {
   "cell_type": "code",
   "execution_count": 99,
   "metadata": {},
   "outputs": [
    {
     "name": "stdout",
     "output_type": "stream",
     "text": [
      " 1 의 학생은 합격입니다. 90 점\n",
      " 2 의 학생은 불합격입니다. 24 점\n",
      " 3 의 학생은 불합격입니다. 55 점\n",
      " 4 의 학생은 합격입니다. 62 점\n",
      " 5 의 학생은 불합격입니다. 35 점\n",
      " 6 의 학생은 합격입니다. 88 점\n"
     ]
    }
   ],
   "source": [
    "scores = [90,24,55,62,35,88]\n",
    "for number in range(len(scores)) :\n",
    "    if scores[number] >= 60  :\n",
    "        print(\"%2d\"%(number + 1), \"의 학생은 합격입니다.\", \"%2d\"%scores[number],\"점\")\n",
    "    elif scores[number] < 60 :\n",
    "        print(\"%2d\"%(number + 1), \"의 학생은 불합격입니다.\", \"%2d\"%scores[number],\"점\")\n",
    "    elif scores[number] == 100 :\n",
    "        print(\"%2d\"%(number + 1), \"의 학생은 합격입니다.\", \"%2d\"%scores[number],\"점\")\n"
   ]
  },
  {
   "cell_type": "code",
   "execution_count": 100,
   "metadata": {},
   "outputs": [
    {
     "name": "stdout",
     "output_type": "stream",
     "text": [
      "1의 학생은 합격\n",
      "2의 학생은 불합격\n",
      "3의 학생은 합격\n",
      "4의 학생은 불합격\n",
      "5의 학생은 합격\n"
     ]
    }
   ],
   "source": [
    "scores = [90,25,67,45,80]\n",
    "count = 1\n",
    "for number in scores:\n",
    "    if(number>=60):\n",
    "        print(\"%d의 학생은 합격\"%count)\n",
    "    else:\n",
    "        print(\"%d의 학생은 불합격\"%count)\n",
    "    count +=1"
   ]
  },
  {
   "cell_type": "code",
   "execution_count": 109,
   "metadata": {},
   "outputs": [
    {
     "name": "stdout",
     "output_type": "stream",
     "text": [
      "1의 학생은 점수가 90 이므로 합격입니다.\n",
      "2의 학생은 점수가 25 이므로 불합격입니다.\n",
      "3의 학생은 점수가 67 이므로 합격입니다.\n",
      "4의 학생은 점수가 45 이므로 불합격입니다.\n",
      "5의 학생은 점수가 80 이므로 합격입니다.\n"
     ]
    }
   ],
   "source": [
    "# 학생번호와 점수를 같이 보여주면서 합격여부 출력하기\n",
    "\n",
    "scores = [90,25,67,45,80]\n",
    "num = 0\n",
    "for score in scores :\n",
    "    num += 1\n",
    "    if(score >= 60):\n",
    "        print(\"%d의 학생은 점수가\"%num, \"%2d\"%score,\"이므로 합격입니다.\")\n",
    "    else:\n",
    "        print(\"%d의 학생은 점수가\"%num, \"%2d\"%score,\"이므로 불합격입니다.\")"
   ]
  },
  {
   "cell_type": "code",
   "execution_count": null,
   "metadata": {},
   "outputs": [],
   "source": []
  }
 ],
 "metadata": {
  "kernelspec": {
   "display_name": "Python 3",
   "language": "python",
   "name": "python3"
  },
  "language_info": {
   "codemirror_mode": {
    "name": "ipython",
    "version": 3
   },
   "file_extension": ".py",
   "mimetype": "text/x-python",
   "name": "python",
   "nbconvert_exporter": "python",
   "pygments_lexer": "ipython3",
   "version": "3.8.5"
  }
 },
 "nbformat": 4,
 "nbformat_minor": 4
}
