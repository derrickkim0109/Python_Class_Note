{
 "cells": [
  {
   "cell_type": "code",
   "execution_count": null,
   "metadata": {},
   "outputs": [],
   "source": [
    "if 조건 :\n",
    "    문장 1\n",
    "    문장 2\n",
    "----------------------\n",
    "if 조건 : \n",
    "    문장1 \n",
    "else :\n",
    "    문장2\n",
    "----------------------\n",
    "# else if 를 Python에서는 elif라 쓴다\n",
    "if 조건 :\n",
    "    문장1\n",
    "elif 조건:\n",
    "    문장2\n",
    "elif 조건:\n",
    "    문장3   "
   ]
  },
  {
   "cell_type": "raw",
   "metadata": {},
   "source": [
    " "
   ]
  },
  {
   "cell_type": "code",
   "execution_count": 2,
   "metadata": {},
   "outputs": [],
   "source": [
    "# 난수 불러오기 \n",
    "from random import randint"
   ]
  },
  {
   "cell_type": "code",
   "execution_count": 3,
   "metadata": {},
   "outputs": [
    {
     "data": {
      "text/plain": [
       "7"
      ]
     },
     "execution_count": 3,
     "metadata": {},
     "output_type": "execute_result"
    }
   ],
   "source": [
    "randint(1,100)"
   ]
  },
  {
   "cell_type": "code",
   "execution_count": 4,
   "metadata": {},
   "outputs": [
    {
     "name": "stdout",
     "output_type": "stream",
     "text": [
      "x is greater than 50\n",
      "------END-----\n"
     ]
    }
   ],
   "source": [
    "x = randint(1,100)\n",
    "if x > 50 :\n",
    "    print(\"x is greater than 50\")\n",
    "    \n",
    "print(\"------END-----\")"
   ]
  },
  {
   "cell_type": "code",
   "execution_count": 5,
   "metadata": {},
   "outputs": [
    {
     "name": "stdout",
     "output_type": "stream",
     "text": [
      "x is less or equal than 50\n",
      "------END-----\n"
     ]
    }
   ],
   "source": [
    "x = randint(1,100)\n",
    "if x > 50 :\n",
    "     print(\"x is greater than 50\")\n",
    "else :\n",
    "     print(\"x is less or equal than 50\")\n",
    "print(\"------END-----\")"
   ]
  },
  {
   "cell_type": "code",
   "execution_count": 6,
   "metadata": {},
   "outputs": [
    {
     "name": "stdout",
     "output_type": "stream",
     "text": [
      "숫자를 입력하세요.!12\n"
     ]
    },
    {
     "data": {
      "text/plain": [
       "'12'"
      ]
     },
     "execution_count": 6,
     "metadata": {},
     "output_type": "execute_result"
    }
   ],
   "source": [
    "# 사용자로부터 숫자 입력 받기\n",
    "input(\"숫자를 입력하세요.!\")\n",
    "#받아오는 값(화면에 뜨는값)은 다 문자이다.--> 쓰고 싶으면 int로 바꿔야한다\n",
    "int(input(\"숫자를 입력하세요.!\"))"
   ]
  },
  {
   "cell_type": "code",
   "execution_count": 9,
   "metadata": {},
   "outputs": [
    {
     "name": "stdout",
     "output_type": "stream",
     "text": [
      "숫자를 입력하세요5\n",
      "홀수 입니다.\n"
     ]
    }
   ],
   "source": [
    "# 사용자로 부터 숫자를 입력받아 홀수 인지 짝수 인지 구분하기\n",
    "x = int(input(\"숫자를 입력하세요\"))\n",
    "if(x % 2 == 0 ):\n",
    "    print(\"짝수 입니다\")\n",
    "else : \n",
    "    print(\"홀수 입니다.\")\n"
   ]
  },
  {
   "cell_type": "code",
   "execution_count": 14,
   "metadata": {},
   "outputs": [
    {
     "name": "stdout",
     "output_type": "stream",
     "text": [
      "점수를 입력하세요400\n",
      "다시 입력하세요.\n"
     ]
    }
   ],
   "source": [
    "# 사용자로부터 점수를 입력받아 학점 계산하기\n",
    "score = int(input(\"점수를 입력하세요\"))\n",
    "if(score > 90 | score < 100):\n",
    "    print(score,\"점 A학점 입니다.\")\n",
    "elif(score > 70 | score < 90):\n",
    "    print(score,\"점 B학점 입니다.\")\n",
    "elif(score > 60 | score < 70):\n",
    "    print(score,\"점 C학점 입니다.\")\n",
    "elif(score >100):\n",
    "    print(\"다시 입력하세요.\")\n",
    "else : \n",
    "    print(score, \"점 F학점입니다.\")"
   ]
  },
  {
   "cell_type": "code",
   "execution_count": 15,
   "metadata": {},
   "outputs": [],
   "source": [
    "import math \n"
   ]
  },
  {
   "cell_type": "code",
   "execution_count": 17,
   "metadata": {},
   "outputs": [
    {
     "name": "stdout",
     "output_type": "stream",
     "text": [
      "숫자를 입력하세요.5\n",
      "2.23606797749979\n"
     ]
    }
   ],
   "source": [
    "# 사용자로 부터 숫자를 입력받아 5의 배수이면 제곱근을 구하고 그렇지 않으면 원래수 출력하기\n",
    "number = int(input(\"숫자를 입력하세요.\"))\n",
    "if(number % 5 == 0):\n",
    "    print(math.sqrt(number))\n",
    "else:\n",
    "    print(number)"
   ]
  },
  {
   "cell_type": "code",
   "execution_count": 19,
   "metadata": {},
   "outputs": [
    {
     "name": "stdout",
     "output_type": "stream",
     "text": [
      "신용카드로 택시 타기\n",
      "---- END ----\n"
     ]
    }
   ],
   "source": [
    "# list의 내용을 if문으로 확인하기\n",
    "pocket = ['paper', 'smartphone']\n",
    "card = 1\n",
    "\n",
    "if 'money' in pocket:\n",
    "    print('현금으로 택시 타기 ')\n",
    "elif card:\n",
    "    print(\"신용카드로 택시 타기\")\n",
    "else : \n",
    "    print(\"튼튼한 다리를 사용한다!!\")\n",
    "    \n",
    "print('---- END ----')"
   ]
  },
  {
   "cell_type": "code",
   "execution_count": null,
   "metadata": {},
   "outputs": [],
   "source": []
  }
 ],
 "metadata": {
  "kernelspec": {
   "display_name": "Python 3",
   "language": "python",
   "name": "python3"
  },
  "language_info": {
   "codemirror_mode": {
    "name": "ipython",
    "version": 3
   },
   "file_extension": ".py",
   "mimetype": "text/x-python",
   "name": "python",
   "nbconvert_exporter": "python",
   "pygments_lexer": "ipython3",
   "version": "3.8.5"
  }
 },
 "nbformat": 4,
 "nbformat_minor": 4
}
