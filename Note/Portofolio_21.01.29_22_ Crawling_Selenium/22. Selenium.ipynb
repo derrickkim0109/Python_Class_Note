{
 "cells": [
  {
   "cell_type": "code",
   "execution_count": 38,
   "metadata": {},
   "outputs": [],
   "source": [
    "# pip install selenium <- 설치 하기\n",
    "# https://www.opinet.co.kr/searRgSelect.do"
   ]
  },
  {
   "cell_type": "markdown",
   "metadata": {},
   "source": [
    "# 서울시 구별 주유소 유가 정보 획득"
   ]
  },
  {
   "cell_type": "code",
   "execution_count": 43,
   "metadata": {},
   "outputs": [],
   "source": [
    "from selenium import webdriver"
   ]
  },
  {
   "cell_type": "code",
   "execution_count": 40,
   "metadata": {},
   "outputs": [],
   "source": [
    "driver = webdriver.Chrome(\"../Data/chromedriver\")\n",
    "# chmod 777 ./chromedriver \n",
    "driver.get(\"https://www.opinet.co.kr/searRgSelect.do\")"
   ]
  },
  {
   "cell_type": "code",
   "execution_count": 41,
   "metadata": {},
   "outputs": [
    {
     "data": {
      "text/plain": [
       "True"
      ]
     },
     "execution_count": 41,
     "metadata": {},
     "output_type": "execute_result"
    }
   ],
   "source": [
    "# 현재 화면 Capture \n",
    "driver.save_screenshot(\"../Data/001.png\")"
   ]
  },
  {
   "cell_type": "code",
   "execution_count": 44,
   "metadata": {
    "collapsed": true
   },
   "outputs": [
    {
     "data": {
      "text/plain": [
       "['강남구',\n",
       " '강동구',\n",
       " '강북구',\n",
       " '강서구',\n",
       " '관악구',\n",
       " '광진구',\n",
       " '구로구',\n",
       " '금천구',\n",
       " '노원구',\n",
       " '도봉구',\n",
       " '동대문구',\n",
       " '동작구',\n",
       " '마포구',\n",
       " '서대문구',\n",
       " '서초구',\n",
       " '성동구',\n",
       " '성북구',\n",
       " '송파구',\n",
       " '양천구',\n",
       " '영등포구',\n",
       " '용산구',\n",
       " '은평구',\n",
       " '종로구',\n",
       " '중구',\n",
       " '중랑구']"
      ]
     },
     "execution_count": 44,
     "metadata": {},
     "output_type": "execute_result"
    }
   ],
   "source": [
    "# Site에서 개발자 환경 켜서 select 커서 누른다음 서초구 combobox를 누른후 ->\n",
    "# 카피 -> select X -> Copy XPath\n",
    "# //*[@id=\"SIGUNGU_NM0\"]\n",
    "\n",
    "# 자치구명 정보 가져오기\n",
    "gu_list_raw = driver.find_element_by_xpath('//*[@id=\"SIGUNGU_NM0\"]')\n",
    "gu_list = gu_list_raw.find_elements_by_tag_name(\"option\") # 자식이다 \n",
    "\n",
    "gu_names = [option.get_attribute('value') for option in gu_list]\n",
    "gu_names.remove('')\n",
    "gu_names"
   ]
  },
  {
   "cell_type": "code",
   "execution_count": 45,
   "metadata": {},
   "outputs": [],
   "source": [
    "# 조회 버튼 Click \n",
    "# //*[@id=\"searRgSelect\"]/span\n",
    "xpath = '//*[@id=\"searRgSelect\"]/span'\n",
    "element_select_gu = driver.find_element_by_xpath(xpath).click()\n"
   ]
  },
  {
   "cell_type": "code",
   "execution_count": 47,
   "metadata": {},
   "outputs": [],
   "source": [
    "# 자치구 이름을 획득하여 1번 자치구를 실행 \n",
    "# [0]번째 강남구로 바꿈\n",
    "element = driver.find_element_by_id('SIGUNGU_NM0')\n",
    "element.send_keys(gu_names[0])"
   ]
  },
  {
   "cell_type": "code",
   "execution_count": 48,
   "metadata": {},
   "outputs": [],
   "source": [
    "# xpath를 사용하여 조회버튼 click\n",
    "xpath = '//*[@id=\"searRgSelect\"]/span'\n",
    "element_sel_gu = driver.find_element_by_xpath(xpath).click()"
   ]
  },
  {
   "cell_type": "code",
   "execution_count": 49,
   "metadata": {},
   "outputs": [],
   "source": [
    "# excel 저장 할거다 \n",
    "# //*[@id=\"glopopd_excel\"]/span\n",
    "xpath = '//*[@id=\"glopopd_excel\"]/span'\n",
    "element_get_excel = driver.find_element_by_xpath(xpath).click()"
   ]
  },
  {
   "cell_type": "code",
   "execution_count": null,
   "metadata": {},
   "outputs": [],
   "source": [
    "import time"
   ]
  },
  {
   "cell_type": "code",
   "execution_count": 50,
   "metadata": {},
   "outputs": [],
   "source": [
    "for gu in gu_names:\n",
    "    element = driver.find_element_by_id('SIGUNGU_NM0')\n",
    "    element.send_keys(gu)\n",
    "    # gu 클릭하면 gu 이름 바뀔것이다. \n",
    "    \n",
    "    # 조회버튼 클릭한다.\n",
    "    xpath = '//*[@id=\"searRgSelect\"]/span'\n",
    "    element_sel_gu = driver.find_element_by_xpath(xpath).click()\n",
    "    time.sleep(3)\n",
    "    \n",
    "    # data 가져온다\n",
    "    xpath = '//*[@id=\"glopopd_excel\"]/span'\n",
    "    element_get_excel = driver.find_element_by_xpath(xpath).click()\n",
    "    time.sleep(1)"
   ]
  },
  {
   "cell_type": "code",
   "execution_count": null,
   "metadata": {},
   "outputs": [],
   "source": []
  }
 ],
 "metadata": {
  "kernelspec": {
   "display_name": "Python 3",
   "language": "python",
   "name": "python3"
  },
  "language_info": {
   "codemirror_mode": {
    "name": "ipython",
    "version": 3
   },
   "file_extension": ".py",
   "mimetype": "text/x-python",
   "name": "python",
   "nbconvert_exporter": "python",
   "pygments_lexer": "ipython3",
   "version": "3.8.5"
  }
 },
 "nbformat": 4,
 "nbformat_minor": 4
}
