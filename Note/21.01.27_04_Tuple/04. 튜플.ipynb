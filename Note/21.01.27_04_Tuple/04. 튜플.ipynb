{
 "cells": [
  {
   "cell_type": "markdown",
   "metadata": {},
   "source": [
    "# 튜플(Tuple) 자료형이다.\n",
    ": 튜플은 다음과 같은점을 제외하고 리스트와 거의 비슷하다. \n",
    "  ex) list 는 []\n",
    "- (,)소괄호로 사용\n",
    "- 리스트는 그 값을 생성, 삭제, 수정이 가능하지만 튜플은 값을 바꿀수 없다.\n",
    "\n",
    "- 프로그램 작성시 생성된 데이터값을 변화 시키면서 사용하고자 하면 리스트를 사용.      \n",
    "  한번 생성된 데이터 값의 변경되는 것을 막고자 하면 튜플을 사용한다.       \n",
    "  프로그램 작성시 평균적으로 튜플보다 리스트를 많이 사용 ( 함수에서 리스트는 한개씩, 튜플은 여러개를 한꺼번에 가능)"
   ]
  },
  {
   "cell_type": "markdown",
   "metadata": {},
   "source": [
    "# 튜플의 선언"
   ]
  },
  {
   "cell_type": "code",
   "execution_count": 16,
   "metadata": {},
   "outputs": [
    {
     "name": "stdout",
     "output_type": "stream",
     "text": [
      "()\n",
      "1\n",
      "(1, 2, 3)\n",
      "(1, 2, 3)\n",
      "('a', 'b', ('ab', 'cd'))\n",
      "ab\n"
     ]
    }
   ],
   "source": [
    "# 다 똑같이 들어 갈수 있다.\n",
    "var01 = ()\n",
    "print(var01)\n",
    "var01 = (1)\n",
    "print(var01)\n",
    "var01 = (1,2,3)\n",
    "print(var01)\n",
    "var01 = 1,2,3\n",
    "print(var01)\n",
    "var01 = ('a','b',('ab','cd'))\n",
    "print(var01)\n",
    "# 위의 a,b 를 가져 오고 싶을때 \n",
    "print(var01[2][0])\n",
    "# 데이터 추가 안됨. 한번 셋팅 해두면 끝이다. "
   ]
  },
  {
   "cell_type": "code",
   "execution_count": null,
   "metadata": {},
   "outputs": [],
   "source": []
  }
 ],
 "metadata": {
  "kernelspec": {
   "display_name": "Python 3",
   "language": "python",
   "name": "python3"
  },
  "language_info": {
   "codemirror_mode": {
    "name": "ipython",
    "version": 3
   },
   "file_extension": ".py",
   "mimetype": "text/x-python",
   "name": "python",
   "nbconvert_exporter": "python",
   "pygments_lexer": "ipython3",
   "version": "3.8.5"
  }
 },
 "nbformat": 4,
 "nbformat_minor": 4
}
