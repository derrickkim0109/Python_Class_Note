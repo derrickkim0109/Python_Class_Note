{
 "cells": [
  {
   "cell_type": "markdown",
   "metadata": {},
   "source": [
    "# 리스트(list) 자료형\n",
    "- 숫자나 문자들의 모음을 하나의 자료형으로 표현하기 위해 사용\n",
    "- 표현방법 : 리스트명 = [요소1,요소2,...]"
   ]
  },
  {
   "cell_type": "code",
   "execution_count": 4,
   "metadata": {},
   "outputs": [
    {
     "name": "stdout",
     "output_type": "stream",
     "text": [
      "[1, 2, ['Dream', True]]\n"
     ]
    },
    {
     "data": {
      "text/plain": [
       "'Dream'"
      ]
     },
     "execution_count": 4,
     "metadata": {},
     "output_type": "execute_result"
    }
   ],
   "source": [
    "## 리스트 자료형 선언\n",
    "var01 = [] # 값이 비어있는 리스트\n",
    "var01 = [1,2,3] # 숫자\n",
    "var01 = ['I','have','a','dream']# 문자\n",
    "var01 = [1,2,'dream',True] # 다 섞어서 가능 true 는 논리형\n",
    "var01 = [1,2,['Dream',True]] # 리스트안에 리스트 가능\n",
    "\n",
    "print(var01)\n",
    "var01[2][0] #리스트 안에 리스트 값 뽑아오기\n"
   ]
  },
  {
   "cell_type": "markdown",
   "metadata": {},
   "source": [
    "# 리스트의 연산자"
   ]
  },
  {
   "cell_type": "code",
   "execution_count": 34,
   "metadata": {},
   "outputs": [
    {
     "data": {
      "text/plain": [
       "[1, 2, 3, 4, 5, 6]"
      ]
     },
     "execution_count": 34,
     "metadata": {},
     "output_type": "execute_result"
    }
   ],
   "source": [
    "# 리스트의 숫자 합치기 (덧셈이 아니라 리스트병합)\n",
    "var01 = [1,2,3]\n",
    "var02 = [4,5,6]\n",
    "var01 + var02"
   ]
  },
  {
   "cell_type": "code",
   "execution_count": 14,
   "metadata": {},
   "outputs": [
    {
     "name": "stdout",
     "output_type": "stream",
     "text": [
      "5\n",
      "7\n",
      "9\n",
      "5\n",
      "7\n",
      "9\n"
     ]
    }
   ],
   "source": [
    "#리스트의 덧셈\n",
    "\n",
    "for i in range(0,3):\n",
    "    print(var01[i] + var02[i])\n",
    "# 같은것\n",
    "for i in range(0, len(var02)):\n",
    "    print(var01[i] + var02[i])"
   ]
  },
  {
   "cell_type": "code",
   "execution_count": 15,
   "metadata": {},
   "outputs": [
    {
     "data": {
      "text/plain": [
       "[1, 2, 3, 1, 2, 3, 1, 2, 3]"
      ]
     },
     "execution_count": 15,
     "metadata": {},
     "output_type": "execute_result"
    }
   ],
   "source": [
    "var01 * 3"
   ]
  },
  {
   "cell_type": "code",
   "execution_count": 17,
   "metadata": {},
   "outputs": [
    {
     "data": {
      "text/plain": [
       "'3hi'"
      ]
     },
     "execution_count": 17,
     "metadata": {},
     "output_type": "execute_result"
    }
   ],
   "source": [
    "# var01[2] + 'hi'이런거 하고싶을때 ???\n",
    "# 문자열로 변경하기!!\n",
    "str(var01[2]) + 'hi'"
   ]
  },
  {
   "cell_type": "code",
   "execution_count": 18,
   "metadata": {},
   "outputs": [
    {
     "data": {
      "text/plain": [
       "123"
      ]
     },
     "execution_count": 18,
     "metadata": {},
     "output_type": "execute_result"
    }
   ],
   "source": [
    "# 정수로 바꾸기 \n",
    "int('123')"
   ]
  },
  {
   "cell_type": "markdown",
   "metadata": {},
   "source": [
    "# 리스트의 수정과 삭제"
   ]
  },
  {
   "cell_type": "code",
   "execution_count": 21,
   "metadata": {},
   "outputs": [
    {
     "data": {
      "text/plain": [
       "[1, 2, 4]"
      ]
     },
     "execution_count": 21,
     "metadata": {},
     "output_type": "execute_result"
    }
   ],
   "source": [
    "# 문자열은 안되지만 --> list는 가능하다 \n",
    "var01\n",
    "var01[2] = 4\n",
    "var01"
   ]
  },
  {
   "cell_type": "code",
   "execution_count": 27,
   "metadata": {},
   "outputs": [
    {
     "data": {
      "text/plain": [
       "[1, 'a', 'b', 'c']"
      ]
     },
     "execution_count": 27,
     "metadata": {},
     "output_type": "execute_result"
    }
   ],
   "source": [
    "# 리스트는 숫자 문자 상관없이 막들어 간다.\n",
    "var01[1:2] = ['a', 'b', 'c']\n",
    "var01"
   ]
  },
  {
   "cell_type": "code",
   "execution_count": 28,
   "metadata": {},
   "outputs": [
    {
     "data": {
      "text/plain": [
       "[1, 'c']"
      ]
     },
     "execution_count": 28,
     "metadata": {},
     "output_type": "execute_result"
    }
   ],
   "source": [
    "# 지울 필요가 있는 부분들은 이렇게 지워라 -1\n",
    "var01[1:3] = []\n",
    "var01"
   ]
  },
  {
   "cell_type": "code",
   "execution_count": 29,
   "metadata": {},
   "outputs": [
    {
     "data": {
      "text/plain": [
       "[1]"
      ]
     },
     "execution_count": 29,
     "metadata": {},
     "output_type": "execute_result"
    }
   ],
   "source": [
    "# 지울 필요가 있는 부분들은 이렇게 지워라 -2\n",
    "del var01[1]\n",
    "var01\n"
   ]
  },
  {
   "cell_type": "markdown",
   "metadata": {},
   "source": [
    "# 리스트 관련 함수"
   ]
  },
  {
   "cell_type": "code",
   "execution_count": 36,
   "metadata": {},
   "outputs": [
    {
     "name": "stdout",
     "output_type": "stream",
     "text": [
      "5\n",
      "7\n",
      "9\n"
     ]
    },
    {
     "data": {
      "text/plain": [
       "[5, 7, 9]"
      ]
     },
     "execution_count": 36,
     "metadata": {},
     "output_type": "execute_result"
    }
   ],
   "source": [
    "# list에 요소 추가 \n",
    "var01 = [1,2,3]\n",
    "var01.append(4)\n",
    "var03 = []\n",
    "var01\n",
    "for i in range(0,3):\n",
    "    var03.append(var01[i] + var02[i])\n",
    "    print(var01[i] + var02[i])\n",
    "    \n",
    "var03"
   ]
  },
  {
   "cell_type": "code",
   "execution_count": 38,
   "metadata": {},
   "outputs": [
    {
     "data": {
      "text/plain": [
       "[1, 2, 3, 4, [5, 6], [5, 6]]"
      ]
     },
     "execution_count": 38,
     "metadata": {},
     "output_type": "execute_result"
    }
   ],
   "source": [
    "# list는 아무것이나 막들어 간다. 계속\n",
    "var01.append([5,6])\n",
    "var01"
   ]
  },
  {
   "cell_type": "code",
   "execution_count": 48,
   "metadata": {},
   "outputs": [
    {
     "name": "stdout",
     "output_type": "stream",
     "text": [
      "[1, 4, 5, 7, 2]\n",
      "[1, 2, 4, 5, 7]\n",
      "[7, 5, 4, 2, 1]\n"
     ]
    }
   ],
   "source": [
    "# list의 정렬 : 숫자\n",
    "var01 = [1,4,5,7,2]\n",
    "print(var01)\n",
    "\n",
    "# 오름차순\n",
    "var01.sort()\n",
    "print(var01)\n",
    "\n",
    "# 내림차순\n",
    "var01.reverse()\n",
    "print(var01)"
   ]
  },
  {
   "cell_type": "code",
   "execution_count": 49,
   "metadata": {},
   "outputs": [
    {
     "name": "stdout",
     "output_type": "stream",
     "text": [
      "['a', 'b', 'e', 'a', 't']\n",
      "['a', 'a', 'b', 'e', 't']\n",
      "['a', 'a', 'b', 'e', 't']\n"
     ]
    }
   ],
   "source": [
    "# list의 정렬 : English\n",
    "var02 = ['a','b','e','a','t']\n",
    "print(var02)\n",
    "\n",
    "# 오름차순\n",
    "var02.sort()\n",
    "print(var02)\n",
    "\n",
    "# 내림차순\n",
    "var01.reverse()\n",
    "print(var02)"
   ]
  },
  {
   "cell_type": "code",
   "execution_count": 55,
   "metadata": {},
   "outputs": [
    {
     "name": "stdout",
     "output_type": "stream",
     "text": [
      "['대', '한', '민', '국']\n",
      "['국', '대', '민', '한']\n",
      "['한', '민', '대', '국']\n"
     ]
    }
   ],
   "source": [
    "# list의 정렬 : Korean\n",
    "var02 = ['대','한','민','국']\n",
    "print(var02)\n",
    "\n",
    "# 오름차순\n",
    "var02.sort()\n",
    "print(var02)\n",
    "\n",
    "# 내림차순\n",
    "var02.reverse()\n",
    "print(var02)"
   ]
  },
  {
   "cell_type": "code",
   "execution_count": 56,
   "metadata": {},
   "outputs": [
    {
     "data": {
      "text/plain": [
       "1"
      ]
     },
     "execution_count": 56,
     "metadata": {},
     "output_type": "execute_result"
    }
   ],
   "source": [
    "# 리스트의 위치정보 \n",
    "\n",
    "var01 = [4,5,6]\n",
    "# 요소가 5인것의 위치 찾기 \n",
    "var01.index(5)\n",
    "# [1]번째에 있다."
   ]
  },
  {
   "cell_type": "code",
   "execution_count": 57,
   "metadata": {},
   "outputs": [
    {
     "data": {
      "text/plain": [
       "[1, 4, 5, 6]"
      ]
     },
     "execution_count": 57,
     "metadata": {},
     "output_type": "execute_result"
    }
   ],
   "source": [
    "# 리스트에 요소 삽입\n",
    "var01.insert(0,1)\n",
    "var01\n",
    "# append 는 맨 마지막에 붙는것\n",
    "# insert는 어디에 넣을지를 정하고 넣는것. "
   ]
  },
  {
   "cell_type": "code",
   "execution_count": 60,
   "metadata": {},
   "outputs": [
    {
     "data": {
      "text/plain": [
       "[1, 5, 6]"
      ]
     },
     "execution_count": 60,
     "metadata": {},
     "output_type": "execute_result"
    }
   ],
   "source": [
    "# 리스트에 요소 제거\n",
    "# 요소가 4인것 제거 \n",
    "# 위치로 하는것은 [] 대괄호가 있어야 한다. \n",
    "var01.remove(4)\n",
    "var01"
   ]
  },
  {
   "cell_type": "code",
   "execution_count": 61,
   "metadata": {},
   "outputs": [
    {
     "name": "stdout",
     "output_type": "stream",
     "text": [
      "3\n",
      "[1, 2]\n"
     ]
    }
   ],
   "source": [
    "# 리스트 요소 끄집어 내기\n",
    "var01 = [1,2,3]\n",
    "# pop()는 리스트의 마지막 요소를 선택후 보여주고 해당 데이터는 삭제되는것이다.-> 끄집어내서 삭제 \n",
    "print(var01.pop())\n",
    "print(var01)"
   ]
  },
  {
   "cell_type": "code",
   "execution_count": 65,
   "metadata": {},
   "outputs": [
    {
     "name": "stdout",
     "output_type": "stream",
     "text": [
      "3\n",
      "var01: [1, 2]\n",
      "2\n",
      "var01: [1]\n",
      "1\n",
      "var01: []\n",
      "[]\n"
     ]
    }
   ],
   "source": [
    "# for문을 사용한 pop\n",
    "var01 = [1,2,3]\n",
    "for i in range(0,3):\n",
    "    print(var01.pop())\n",
    "    print(\"var01:\",var01)\n",
    "print(var01)\n"
   ]
  },
  {
   "cell_type": "code",
   "execution_count": 67,
   "metadata": {},
   "outputs": [
    {
     "name": "stdout",
     "output_type": "stream",
     "text": [
      "2\n",
      "5\n"
     ]
    }
   ],
   "source": [
    "# 리스트의 요소 개수 세기 \n",
    "var01 = [1,2,3,4,4]\n",
    "# 4가 몇개 있니??\n",
    "print(var01.count(4))\n",
    "# 전체 갯수가 몇개 이니?\n",
    "print(len(var01))"
   ]
  },
  {
   "cell_type": "code",
   "execution_count": 71,
   "metadata": {},
   "outputs": [
    {
     "data": {
      "text/plain": [
       "[1, 2, 3, 4, [5, 6], 5, 6]"
      ]
     },
     "execution_count": 71,
     "metadata": {},
     "output_type": "execute_result"
    }
   ],
   "source": [
    "# 리스트의 확장\n",
    "var01 = [1,2,3,4]\n",
    "# var01.append([5,6])\n",
    "# var01\n",
    "# append 는 한꺼번에 한요소로 취급되어서 들어가는것이고,\n",
    "# extend 는 개별로 요소로서 들어가는것이다.\n",
    "var01.extend([5,6])\n",
    "var01"
   ]
  },
  {
   "cell_type": "code",
   "execution_count": null,
   "metadata": {},
   "outputs": [],
   "source": []
  }
 ],
 "metadata": {
  "kernelspec": {
   "display_name": "Python 3",
   "language": "python",
   "name": "python3"
  },
  "language_info": {
   "codemirror_mode": {
    "name": "ipython",
    "version": 3
   },
   "file_extension": ".py",
   "mimetype": "text/x-python",
   "name": "python",
   "nbconvert_exporter": "python",
   "pygments_lexer": "ipython3",
   "version": "3.8.5"
  }
 },
 "nbformat": 4,
 "nbformat_minor": 4
}
