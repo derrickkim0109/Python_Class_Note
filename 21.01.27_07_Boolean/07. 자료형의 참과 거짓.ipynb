{
 "cells": [
  {
   "cell_type": "markdown",
   "metadata": {},
   "source": []
  },
  {
   "cell_type": "markdown",
   "metadata": {},
   "source": [
    "# 자료형의 참과 거짓 \n",
    "- 문자열인 경우 \"\"(따옴표)안에 data가 있으면 True, 없으면 False\n",
    "- 리스트인 경우 []안에 data가 있으면 True, 없으면 False\n",
    "- 튜플인 경우 ()안에 data가 있으면 True, 없으면 False\n",
    "- 딕셔너리인 경우 {}안에 data가 있으면 True, 없으면 False\n",
    "- 숫자인 경우 0이면 거짓이고, 0이 아닌 숫자는 참.\n",
    "#### 데이터 분석쪽에서 많이 쓰는 것이다."
   ]
  },
  {
   "cell_type": "code",
   "execution_count": 2,
   "metadata": {},
   "outputs": [
    {
     "data": {
      "text/plain": [
       "False"
      ]
     },
     "execution_count": 2,
     "metadata": {},
     "output_type": "execute_result"
    }
   ],
   "source": [
    "# 숫자의 참과 거짓 \n",
    "var01 = 3 \n",
    "var02 = 1\n",
    "var01 is var02"
   ]
  },
  {
   "cell_type": "code",
   "execution_count": 3,
   "metadata": {},
   "outputs": [
    {
     "data": {
      "text/plain": [
       "True"
      ]
     },
     "execution_count": 3,
     "metadata": {},
     "output_type": "execute_result"
    }
   ],
   "source": [
    "var01 = 1 \n",
    "var02 = 1\n",
    "var01 is var02"
   ]
  },
  {
   "cell_type": "code",
   "execution_count": 5,
   "metadata": {},
   "outputs": [
    {
     "name": "stdout",
     "output_type": "stream",
     "text": [
      "1\n",
      "2\n"
     ]
    }
   ],
   "source": [
    "# Tuple(튜플)을 이용한 변수 생성이란??\n",
    "# Tuple이란 이럴때 많이쓰는거다!\n",
    "var01, var02 = 1 , 2\n",
    "print(var01)\n",
    "print(var02)\n",
    "# 각자 하나씩 들어간다\n",
    "# 원래는 (var01, var02) = (1 , 2)이 모양이 정상인데 잘 괄호를 안쓴다 \n"
   ]
  },
  {
   "cell_type": "code",
   "execution_count": 6,
   "metadata": {},
   "outputs": [
    {
     "name": "stdout",
     "output_type": "stream",
     "text": [
      "1\n",
      "Derrick\n"
     ]
    }
   ],
   "source": [
    "# 숫자와 문자도 같이 쓸수있다.\n",
    "var01, var02 = 1, \"Derrick\"\n",
    "print(var01)\n",
    "print(var02)"
   ]
  },
  {
   "cell_type": "code",
   "execution_count": 7,
   "metadata": {},
   "outputs": [
    {
     "name": "stdout",
     "output_type": "stream",
     "text": [
      "Lee Lee\n"
     ]
    }
   ],
   "source": [
    "# 이렇게도 쓸수 있다. \n",
    "var01 = var02 = 'Lee'\n",
    "print(var01, var02)"
   ]
  },
  {
   "cell_type": "code",
   "execution_count": 10,
   "metadata": {},
   "outputs": [
    {
     "name": "stdout",
     "output_type": "stream",
     "text": [
      "3 5\n",
      "5 3\n"
     ]
    }
   ],
   "source": [
    "# Tuple을 이용한 변수의 값 교환\n",
    "var01 = 3 \n",
    "var02 = 5 \n",
    "print(var01, var02)\n",
    "# 위의 것을 서로 바꿔서 쓰고 싶을때 \n",
    "var01, var02 = var02, var01\n",
    "print(var01, var02)\n"
   ]
  },
  {
   "cell_type": "markdown",
   "metadata": {},
   "source": [
    "# 많이 헷갈릴수 있는 부분"
   ]
  },
  {
   "cell_type": "code",
   "execution_count": 11,
   "metadata": {},
   "outputs": [
    {
     "name": "stdout",
     "output_type": "stream",
     "text": [
      "[1, 4, 6]\n",
      "[1, 4, 6]\n"
     ]
    }
   ],
   "source": [
    "# List의 복사   - 1\n",
    "# 지금은 ㄴcul by reference이다.\n",
    "var01 = [1,2,3]\n",
    "var02 = var01\n",
    "var01[1] = 4\n",
    "var02[2] = 6\n",
    "# 동시에 같이 바뀐다. \n",
    "# reference와 value \n",
    "print(var01)\n",
    "print(var02)"
   ]
  },
  {
   "cell_type": "code",
   "execution_count": 12,
   "metadata": {},
   "outputs": [
    {
     "data": {
      "text/plain": [
       "True"
      ]
     },
     "execution_count": 12,
     "metadata": {},
     "output_type": "execute_result"
    }
   ],
   "source": [
    "# 기껏 복사해둿더니 이렇게 나오면 망한거다!?\n",
    "# YES\n",
    "var01 is var02"
   ]
  },
  {
   "cell_type": "code",
   "execution_count": 13,
   "metadata": {},
   "outputs": [
    {
     "name": "stdout",
     "output_type": "stream",
     "text": [
      "[1, 4, 3]\n",
      "[1, 2, 3]\n"
     ]
    }
   ],
   "source": [
    "# Slicing을 이용한 리스트 복사 --> 그냥 위의 것들 처럼 복사하면 안된다!!!!\n",
    "var01 = [1,2,3]\n",
    "#[:]이게 복사다\n",
    "var02 = var01[:]\n",
    "var01[1] = 4\n",
    "print(var01)\n",
    "print(var02)"
   ]
  },
  {
   "cell_type": "code",
   "execution_count": 14,
   "metadata": {},
   "outputs": [
    {
     "data": {
      "text/plain": [
       "False"
      ]
     },
     "execution_count": 14,
     "metadata": {},
     "output_type": "execute_result"
    }
   ],
   "source": [
    "# 서로가 틀려야한다. 데이터만 복사해서 써야 하기 때문에 구분이 필요하므로 \n",
    "var01 is var02"
   ]
  },
  {
   "cell_type": "code",
   "execution_count": 15,
   "metadata": {},
   "outputs": [],
   "source": [
    "# Module을 이용한 리스트의 복사 ---2\n",
    "\n",
    "from copy import copy"
   ]
  },
  {
   "cell_type": "code",
   "execution_count": 16,
   "metadata": {},
   "outputs": [
    {
     "name": "stdout",
     "output_type": "stream",
     "text": [
      "[1, 2, 4]\n",
      "[1, 2, 3]\n"
     ]
    }
   ],
   "source": [
    "var01 = [1,2,3]\n",
    "var02 = copy(var01)\n",
    "var01[2] = 4\n",
    "print(var01)\n",
    "print(var02)"
   ]
  },
  {
   "cell_type": "code",
   "execution_count": 17,
   "metadata": {},
   "outputs": [
    {
     "data": {
      "text/plain": [
       "False"
      ]
     },
     "execution_count": 17,
     "metadata": {},
     "output_type": "execute_result"
    }
   ],
   "source": [
    "var01 is var02"
   ]
  },
  {
   "cell_type": "code",
   "execution_count": null,
   "metadata": {},
   "outputs": [],
   "source": []
  }
 ],
 "metadata": {
  "kernelspec": {
   "display_name": "Python 3",
   "language": "python",
   "name": "python3"
  },
  "language_info": {
   "codemirror_mode": {
    "name": "ipython",
    "version": 3
   },
   "file_extension": ".py",
   "mimetype": "text/x-python",
   "name": "python",
   "nbconvert_exporter": "python",
   "pygments_lexer": "ipython3",
   "version": "3.8.5"
  }
 },
 "nbformat": 4,
 "nbformat_minor": 4
}
